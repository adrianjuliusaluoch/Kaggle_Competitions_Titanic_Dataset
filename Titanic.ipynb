{
 "cells": [
  {
   "cell_type": "markdown",
   "metadata": {
    "collapsed": true,
    "pycharm": {
     "name": "#%% md\n"
    }
   },
   "source": [
    "# Titanic Data set\n",
    "\n",
    "Source:  \n",
    "[Predicting the Survival of Titanic Passengers by Niklas Donges](https://towardsdatascience.com/predicting-the-survival-of-titanic-passengers-30870ccc7e8)"
   ]
  },
  {
   "cell_type": "markdown",
   "metadata": {},
   "source": [
    "## From Raw Data to Predictions"
   ]
  },
  {
   "cell_type": "code",
   "execution_count": 1,
   "metadata": {
    "pycharm": {
     "is_executing": false,
     "name": "#%%\n"
    }
   },
   "outputs": [],
   "source": [
    "import pandas as pd\n",
    "import numpy as np\n",
    "\n",
    "import matplotlib.pyplot as plt\n",
    "import seaborn as sns\n",
    "\n",
    "RANDOM_STATE = 42"
   ]
  },
  {
   "cell_type": "markdown",
   "metadata": {},
   "source": [
    "## Import Data"
   ]
  },
  {
   "cell_type": "code",
   "execution_count": 2,
   "metadata": {
    "pycharm": {
     "is_executing": false
    }
   },
   "outputs": [
    {
     "data": {
      "text/plain": "   PassengerId  Survived  Pclass  \\\n0            1         0       3   \n1            2         1       1   \n2            3         1       3   \n3            4         1       1   \n4            5         0       3   \n\n                                                Name     Sex   Age  SibSp  \\\n0                            Braund, Mr. Owen Harris    male  22.0      1   \n1  Cumings, Mrs. John Bradley (Florence Briggs Th...  female  38.0      1   \n2                             Heikkinen, Miss. Laina  female  26.0      0   \n3       Futrelle, Mrs. Jacques Heath (Lily May Peel)  female  35.0      1   \n4                           Allen, Mr. William Henry    male  35.0      0   \n\n   Parch            Ticket     Fare Cabin Embarked  \n0      0         A/5 21171   7.2500   NaN        S  \n1      0          PC 17599  71.2833   C85        C  \n2      0  STON/O2. 3101282   7.9250   NaN        S  \n3      0            113803  53.1000  C123        S  \n4      0            373450   8.0500   NaN        S  ",
      "text/html": "<div>\n<style scoped>\n    .dataframe tbody tr th:only-of-type {\n        vertical-align: middle;\n    }\n\n    .dataframe tbody tr th {\n        vertical-align: top;\n    }\n\n    .dataframe thead th {\n        text-align: right;\n    }\n</style>\n<table border=\"1\" class=\"dataframe\">\n  <thead>\n    <tr style=\"text-align: right;\">\n      <th></th>\n      <th>PassengerId</th>\n      <th>Survived</th>\n      <th>Pclass</th>\n      <th>Name</th>\n      <th>Sex</th>\n      <th>Age</th>\n      <th>SibSp</th>\n      <th>Parch</th>\n      <th>Ticket</th>\n      <th>Fare</th>\n      <th>Cabin</th>\n      <th>Embarked</th>\n    </tr>\n  </thead>\n  <tbody>\n    <tr>\n      <td>0</td>\n      <td>1</td>\n      <td>0</td>\n      <td>3</td>\n      <td>Braund, Mr. Owen Harris</td>\n      <td>male</td>\n      <td>22.0</td>\n      <td>1</td>\n      <td>0</td>\n      <td>A/5 21171</td>\n      <td>7.2500</td>\n      <td>NaN</td>\n      <td>S</td>\n    </tr>\n    <tr>\n      <td>1</td>\n      <td>2</td>\n      <td>1</td>\n      <td>1</td>\n      <td>Cumings, Mrs. John Bradley (Florence Briggs Th...</td>\n      <td>female</td>\n      <td>38.0</td>\n      <td>1</td>\n      <td>0</td>\n      <td>PC 17599</td>\n      <td>71.2833</td>\n      <td>C85</td>\n      <td>C</td>\n    </tr>\n    <tr>\n      <td>2</td>\n      <td>3</td>\n      <td>1</td>\n      <td>3</td>\n      <td>Heikkinen, Miss. Laina</td>\n      <td>female</td>\n      <td>26.0</td>\n      <td>0</td>\n      <td>0</td>\n      <td>STON/O2. 3101282</td>\n      <td>7.9250</td>\n      <td>NaN</td>\n      <td>S</td>\n    </tr>\n    <tr>\n      <td>3</td>\n      <td>4</td>\n      <td>1</td>\n      <td>1</td>\n      <td>Futrelle, Mrs. Jacques Heath (Lily May Peel)</td>\n      <td>female</td>\n      <td>35.0</td>\n      <td>1</td>\n      <td>0</td>\n      <td>113803</td>\n      <td>53.1000</td>\n      <td>C123</td>\n      <td>S</td>\n    </tr>\n    <tr>\n      <td>4</td>\n      <td>5</td>\n      <td>0</td>\n      <td>3</td>\n      <td>Allen, Mr. William Henry</td>\n      <td>male</td>\n      <td>35.0</td>\n      <td>0</td>\n      <td>0</td>\n      <td>373450</td>\n      <td>8.0500</td>\n      <td>NaN</td>\n      <td>S</td>\n    </tr>\n  </tbody>\n</table>\n</div>"
     },
     "metadata": {},
     "output_type": "execute_result",
     "execution_count": 2
    }
   ],
   "source": [
    "test = pd.read_csv('test.csv')\n",
    "train = pd.read_csv('train.csv')\n",
    "\n",
    "train.head()"
   ]
  },
  {
   "cell_type": "markdown",
   "metadata": {},
   "source": [
    "## EDA"
   ]
  },
  {
   "cell_type": "code",
   "execution_count": 3,
   "metadata": {
    "pycharm": {
     "is_executing": false,
     "name": "#%%\n"
    },
    "scrolled": true
   },
   "outputs": [
    {
     "name": "stdout",
     "text": [
      "<class 'pandas.core.frame.DataFrame'>\n",
      "RangeIndex: 891 entries, 0 to 890\n",
      "Data columns (total 12 columns):\n",
      "PassengerId    891 non-null int64\n",
      "Survived       891 non-null int64\n",
      "Pclass         891 non-null int64\n",
      "Name           891 non-null object\n",
      "Sex            891 non-null object\n",
      "Age            714 non-null float64\n",
      "SibSp          891 non-null int64\n",
      "Parch          891 non-null int64\n",
      "Ticket         891 non-null object\n",
      "Fare           891 non-null float64\n",
      "Cabin          204 non-null object\n",
      "Embarked       889 non-null object\n",
      "dtypes: float64(2), int64(5), object(5)\n",
      "memory usage: 83.7+ KB\n"
     ],
     "output_type": "stream"
    }
   ],
   "source": [
    "train.info()"
   ]
  },
  {
   "cell_type": "code",
   "execution_count": 4,
   "metadata": {
    "pycharm": {
     "is_executing": false
    }
   },
   "outputs": [
    {
     "data": {
      "text/plain": "       PassengerId    Survived      Pclass         Age       SibSp  \\\ncount   891.000000  891.000000  891.000000  714.000000  891.000000   \nmean    446.000000    0.383838    2.308642   29.699118    0.523008   \nstd     257.353842    0.486592    0.836071   14.526497    1.102743   \nmin       1.000000    0.000000    1.000000    0.420000    0.000000   \n25%     223.500000    0.000000    2.000000   20.125000    0.000000   \n50%     446.000000    0.000000    3.000000   28.000000    0.000000   \n75%     668.500000    1.000000    3.000000   38.000000    1.000000   \nmax     891.000000    1.000000    3.000000   80.000000    8.000000   \n\n            Parch        Fare  \ncount  891.000000  891.000000  \nmean     0.381594   32.204208  \nstd      0.806057   49.693429  \nmin      0.000000    0.000000  \n25%      0.000000    7.910400  \n50%      0.000000   14.454200  \n75%      0.000000   31.000000  \nmax      6.000000  512.329200  ",
      "text/html": "<div>\n<style scoped>\n    .dataframe tbody tr th:only-of-type {\n        vertical-align: middle;\n    }\n\n    .dataframe tbody tr th {\n        vertical-align: top;\n    }\n\n    .dataframe thead th {\n        text-align: right;\n    }\n</style>\n<table border=\"1\" class=\"dataframe\">\n  <thead>\n    <tr style=\"text-align: right;\">\n      <th></th>\n      <th>PassengerId</th>\n      <th>Survived</th>\n      <th>Pclass</th>\n      <th>Age</th>\n      <th>SibSp</th>\n      <th>Parch</th>\n      <th>Fare</th>\n    </tr>\n  </thead>\n  <tbody>\n    <tr>\n      <td>count</td>\n      <td>891.000000</td>\n      <td>891.000000</td>\n      <td>891.000000</td>\n      <td>714.000000</td>\n      <td>891.000000</td>\n      <td>891.000000</td>\n      <td>891.000000</td>\n    </tr>\n    <tr>\n      <td>mean</td>\n      <td>446.000000</td>\n      <td>0.383838</td>\n      <td>2.308642</td>\n      <td>29.699118</td>\n      <td>0.523008</td>\n      <td>0.381594</td>\n      <td>32.204208</td>\n    </tr>\n    <tr>\n      <td>std</td>\n      <td>257.353842</td>\n      <td>0.486592</td>\n      <td>0.836071</td>\n      <td>14.526497</td>\n      <td>1.102743</td>\n      <td>0.806057</td>\n      <td>49.693429</td>\n    </tr>\n    <tr>\n      <td>min</td>\n      <td>1.000000</td>\n      <td>0.000000</td>\n      <td>1.000000</td>\n      <td>0.420000</td>\n      <td>0.000000</td>\n      <td>0.000000</td>\n      <td>0.000000</td>\n    </tr>\n    <tr>\n      <td>25%</td>\n      <td>223.500000</td>\n      <td>0.000000</td>\n      <td>2.000000</td>\n      <td>20.125000</td>\n      <td>0.000000</td>\n      <td>0.000000</td>\n      <td>7.910400</td>\n    </tr>\n    <tr>\n      <td>50%</td>\n      <td>446.000000</td>\n      <td>0.000000</td>\n      <td>3.000000</td>\n      <td>28.000000</td>\n      <td>0.000000</td>\n      <td>0.000000</td>\n      <td>14.454200</td>\n    </tr>\n    <tr>\n      <td>75%</td>\n      <td>668.500000</td>\n      <td>1.000000</td>\n      <td>3.000000</td>\n      <td>38.000000</td>\n      <td>1.000000</td>\n      <td>0.000000</td>\n      <td>31.000000</td>\n    </tr>\n    <tr>\n      <td>max</td>\n      <td>891.000000</td>\n      <td>1.000000</td>\n      <td>3.000000</td>\n      <td>80.000000</td>\n      <td>8.000000</td>\n      <td>6.000000</td>\n      <td>512.329200</td>\n    </tr>\n  </tbody>\n</table>\n</div>"
     },
     "metadata": {},
     "output_type": "execute_result",
     "execution_count": 4
    }
   ],
   "source": [
    "train.describe()"
   ]
  },
  {
   "cell_type": "code",
   "execution_count": 5,
   "metadata": {
    "pycharm": {
     "is_executing": false
    }
   },
   "outputs": [
    {
     "data": {
      "text/plain": "array([3, 1, 2])"
     },
     "metadata": {},
     "output_type": "execute_result",
     "execution_count": 5
    }
   ],
   "source": [
    "train.Pclass.unique()"
   ]
  },
  {
   "cell_type": "code",
   "execution_count": 6,
   "metadata": {
    "pycharm": {
     "is_executing": false
    }
   },
   "outputs": [
    {
     "data": {
      "text/plain": "array([1, 0, 3, 4, 2, 5, 8])"
     },
     "metadata": {},
     "output_type": "execute_result",
     "execution_count": 6
    }
   ],
   "source": [
    "train.SibSp.unique()"
   ]
  },
  {
   "cell_type": "code",
   "execution_count": 7,
   "metadata": {
    "pycharm": {
     "is_executing": false
    }
   },
   "outputs": [
    {
     "data": {
      "text/plain": "array(['S', 'C', 'Q', nan], dtype=object)"
     },
     "metadata": {},
     "output_type": "execute_result",
     "execution_count": 7
    }
   ],
   "source": [
    "train.Embarked.unique()"
   ]
  },
  {
   "cell_type": "code",
   "execution_count": 8,
   "metadata": {
    "pycharm": {
     "is_executing": false
    }
   },
   "outputs": [
    {
     "name": "stderr",
     "text": [
      "/Users/LukeBarousse/opt/anaconda3/lib/python3.7/site-packages/numpy/lib/histograms.py:829: RuntimeWarning: invalid value encountered in greater_equal\n",
      "  keep = (tmp_a >= first_edge)\n",
      "/Users/LukeBarousse/opt/anaconda3/lib/python3.7/site-packages/numpy/lib/histograms.py:830: RuntimeWarning: invalid value encountered in less_equal\n",
      "  keep &= (tmp_a <= last_edge)\n"
     ],
     "output_type": "stream"
    },
    {
     "data": {
      "text/plain": "(array([14., 10.,  6., 10.,  4.,  3.,  3.,  4.,  8.,  2.,  4.,  1.,  2.,\n         6.,  6., 17., 13., 26., 25., 15., 25., 27., 15., 31., 24., 18.,\n        18., 25., 22., 25., 19., 18., 17., 15., 19., 22.,  7., 11., 14.,\n        13.,  8., 13.,  5.,  9., 12.,  5.,  9.,  9.,  6., 10.,  7.,  6.,\n         1.,  8.,  2.,  5.,  2.,  5.,  2.,  4.,  3.,  4.,  2.,  2.,  3.,\n         1.,  0.,  0.,  0.,  2.,  3.,  0.,  0.,  1.,  0.,  0.,  0.,  0.,\n         0.,  1.]),\n array([ 0.42   ,  1.41475,  2.4095 ,  3.40425,  4.399  ,  5.39375,\n         6.3885 ,  7.38325,  8.378  ,  9.37275, 10.3675 , 11.36225,\n        12.357  , 13.35175, 14.3465 , 15.34125, 16.336  , 17.33075,\n        18.3255 , 19.32025, 20.315  , 21.30975, 22.3045 , 23.29925,\n        24.294  , 25.28875, 26.2835 , 27.27825, 28.273  , 29.26775,\n        30.2625 , 31.25725, 32.252  , 33.24675, 34.2415 , 35.23625,\n        36.231  , 37.22575, 38.2205 , 39.21525, 40.21   , 41.20475,\n        42.1995 , 43.19425, 44.189  , 45.18375, 46.1785 , 47.17325,\n        48.168  , 49.16275, 50.1575 , 51.15225, 52.147  , 53.14175,\n        54.1365 , 55.13125, 56.126  , 57.12075, 58.1155 , 59.11025,\n        60.105  , 61.09975, 62.0945 , 63.08925, 64.084  , 65.07875,\n        66.0735 , 67.06825, 68.063  , 69.05775, 70.0525 , 71.04725,\n        72.042  , 73.03675, 74.0315 , 75.02625, 76.021  , 77.01575,\n        78.0105 , 79.00525, 80.     ]),\n <a list of 80 Patch objects>)"
     },
     "metadata": {},
     "output_type": "execute_result",
     "execution_count": 8
    },
    {
     "data": {
      "text/plain": "<Figure size 432x288 with 1 Axes>",
      "image/png": "[encoded data removed]"
     },
     "metadata": {
      "needs_background": "light"
     },
     "output_type": "display_data"
    }
   ],
   "source": [
    "plt.hist(train.Age, bins=80)"
   ]
  },
  {
   "cell_type": "code",
   "execution_count": 9,
   "metadata": {
    "scrolled": true,
    "pycharm": {
     "is_executing": false
    }
   },
   "outputs": [
    {
     "data": {
      "text/plain": "(array([337., 182., 147.,  50.,  16.,  39.,  18.,  29.,  18.,   2.,   8.,\n          7.,   0.,   7.,   9.,   0.,   2.,   0.,   0.,   0.,   4.,   1.,\n          4.,   0.,   2.,   6.,   0.,   0.,   0.,   0.,   0.,   0.,   0.,\n          0.,   0.,   0.,   0.,   0.,   0.,   0.,   0.,   0.,   0.,   0.,\n          0.,   0.,   0.,   0.,   0.,   3.]),\n array([  0.      ,  10.246584,  20.493168,  30.739752,  40.986336,\n         51.23292 ,  61.479504,  71.726088,  81.972672,  92.219256,\n        102.46584 , 112.712424, 122.959008, 133.205592, 143.452176,\n        153.69876 , 163.945344, 174.191928, 184.438512, 194.685096,\n        204.93168 , 215.178264, 225.424848, 235.671432, 245.918016,\n        256.1646  , 266.411184, 276.657768, 286.904352, 297.150936,\n        307.39752 , 317.644104, 327.890688, 338.137272, 348.383856,\n        358.63044 , 368.877024, 379.123608, 389.370192, 399.616776,\n        409.86336 , 420.109944, 430.356528, 440.603112, 450.849696,\n        461.09628 , 471.342864, 481.589448, 491.836032, 502.082616,\n        512.3292  ]),\n <a list of 50 Patch objects>)"
     },
     "metadata": {},
     "output_type": "execute_result",
     "execution_count": 9
    },
    {
     "data": {
      "text/plain": "<Figure size 432x288 with 1 Axes>",
      "image/png": "[encoded data removed]"
     },
     "metadata": {
      "needs_background": "light"
     },
     "output_type": "display_data"
    }
   ],
   "source": [
    "plt.hist(train.Fare, bins=50)"
   ]
  },
  {
   "cell_type": "markdown",
   "source": [
    "### Analying the survival rate of those without an age"
   ],
   "metadata": {
    "collapsed": false,
    "pycharm": {
     "name": "#%% md\n",
     "is_executing": false
    }
   }
  },
  {
   "cell_type": "code",
   "execution_count": 10,
   "outputs": [
    {
     "name": "stdout",
     "text": [
      "Survival with no age listed: 0.2937853107344633 \n",
      "Survival with an age listed: 0.4061624649859944\n"
     ],
     "output_type": "stream"
    }
   ],
   "source": [
    "no_age = train[list(train.Age.isnull())]\n",
    "no_age_survival = sum(no_age.Survived)/len(no_age.Survived)\n",
    "age = train[list(train.Age.notnull())]\n",
    "age_survival = sum(age.Survived)/len(age.Survived)\n",
    "print(f'Survival with no age listed: {no_age_survival} \\nSurvival with an age listed: {age_survival}')"
   ],
   "metadata": {
    "collapsed": false,
    "pycharm": {
     "name": "#%%\n",
     "is_executing": false
    }
   }
  },
  {
   "cell_type": "code",
   "execution_count": 11,
   "outputs": [
    {
     "data": {
      "text/plain": "<matplotlib.axes._subplots.AxesSubplot at 0x1a1ea5c390>"
     },
     "metadata": {},
     "output_type": "execute_result",
     "execution_count": 11
    },
    {
     "data": {
      "text/plain": "<Figure size 432x288 with 1 Axes>",
      "image/png": "[encoded data removed]"
     },
     "metadata": {
      "needs_background": "light"
     },
     "output_type": "display_data"
    }
   ],
   "source": [
    "sns.violinplot(x=train.Pclass, y=train.Fare)\n",
    "sns.swarmplot(x=train.Pclass, y=train.Fare, size=2)"
   ],
   "metadata": {
    "collapsed": false,
    "pycharm": {
     "name": "#%%\n",
     "is_executing": false
    }
   }
  },
  {
   "cell_type": "markdown",
   "metadata": {},
   "source": [
    "## Preprocess Data"
   ]
  },
  {
   "cell_type": "markdown",
   "source": [
    "### Convert Cabin to Categorical Data"
   ],
   "metadata": {
    "collapsed": false
   }
  },
  {
   "cell_type": "code",
   "execution_count": 12,
   "metadata": {
    "pycharm": {
     "is_executing": false
    }
   },
   "outputs": [
    {
     "name": "stdout",
     "text": [
      "[nan 'C' 'E' 'G' 'D' 'A' 'B' 'F' 'T']\n",
      "[nan 'B' 'E' 'A' 'C' 'D' 'F' 'G']\n"
     ],
     "output_type": "stream"
    }
   ],
   "source": [
    "def cabin_to_cat(data_frame):\n",
    "    \"\"\" Takes the cabin column and extracts the first letter\n",
    "        This allows the cabin to be used as a category\n",
    "    \"\"\" \n",
    "    cabin = data_frame['Cabin'].fillna('')\n",
    "    data_frame['CabinCat'] = cabin.astype(str).str[0]\n",
    "    return print(data_frame['CabinCat'].unique())\n",
    "\n",
    "cabin_to_cat(train)\n",
    "cabin_to_cat(test)"
   ]
  },
  {
   "cell_type": "markdown",
   "source": [
    "### Use Name Prefix to assign Mean Age for Null Values"
   ],
   "metadata": {
    "collapsed": false
   }
  },
  {
   "cell_type": "code",
   "execution_count": 13,
   "outputs": [],
   "source": [
    "def name_to_avg_age(data_frame1, data_frame2):\n",
    "    \"\"\"Takes the name prefix and assigns and average age to missing values\n",
    "    \"\"\"\n",
    "    #combine both data frames\n",
    "    data_frame = data_frame1.append(data_frame2, sort=False)\n",
    "    data_frame.Age = data_frame.Age.astype(float)\n",
    "    \n",
    "    #extract the prefix from all names\n",
    "    data_frame['Initial'] = ''\n",
    "    for _ in data_frame:\n",
    "        data_frame['Initial']=data_frame.Name.str.extract('([A-Za-z]+)\\.')\n",
    "    \n",
    "    #print the prefixes based on gender\n",
    "    #crosstab = pd.crosstab(data_frame.Sex,data_frame.Initial).T.style.background_gradient(cmap='summer_r')\n",
    "    \n",
    "    #Get the average age based on initial\n",
    "    avg_age = data_frame.groupby('Initial')['Age'].mean().to_dict()\n",
    "\n",
    "    return avg_age\n",
    "\n",
    "avg_age_all = name_to_avg_age(train, test)"
   ],
   "metadata": {
    "collapsed": false,
    "pycharm": {
     "name": "#%%\n",
     "is_executing": false
    }
   }
  },
  {
   "cell_type": "code",
   "execution_count": 14,
   "outputs": [
    {
     "name": "stdout",
     "text": [
      "Missing age values before: 177\n",
      "Missing age values after: 0\n",
      "Missing age values before: 0\n",
      "Missing age values after: 0\n"
     ],
     "output_type": "stream"
    }
   ],
   "source": [
    "def fill_na_avg_age(data_frame, avg_age):\n",
    "    #extract the prefix from all names\n",
    "    for _ in data_frame:\n",
    "        data_frame['Initial']=data_frame.Name.str.extract('([A-Za-z]+)\\.')\n",
    "    \n",
    "    print(f'Missing age values before: {train.Age.isnull().sum()}')\n",
    "    # assign avg age based on prefix\n",
    "    for key, value in avg_age.items():\n",
    "        data_frame.loc[(data_frame.Age.isnull())&(data_frame.Initial==key),'Age']=value\n",
    "    print(f'Missing age values after: {train.Age.isnull().sum()}')\n",
    "    return data_frame\n",
    "\n",
    "train = fill_na_avg_age(train, avg_age_all)\n",
    "test = fill_na_avg_age(test, avg_age_all)"
   ],
   "metadata": {
    "collapsed": false,
    "pycharm": {
     "name": "#%%\n",
     "is_executing": false
    }
   }
  },
  {
   "cell_type": "markdown",
   "source": [
    "### Transform Fare to Logarithmic\n",
    "Prior to Converting Accuracy was 81% after was still 81%...."
   ],
   "metadata": {
    "collapsed": false
   }
  },
  {
   "cell_type": "code",
   "execution_count": 15,
   "outputs": [
    {
     "data": {
      "text/plain": "(array([ 15.,   0.,   0.,   0.,   0.,   0.,   1.,   1.,   5., 219.,  95.,\n         38.,  83.,  45.,  37.,  94.,  54.,  32.,  23.,  31.,  33.,  32.,\n         11.,  13.,   9.,   5.,  12.,   0.,   0.,   3.]),\n array([0.        , 0.20796558, 0.41593116, 0.62389674, 0.83186232,\n        1.0398279 , 1.24779348, 1.45575906, 1.66372464, 1.87169022,\n        2.0796558 , 2.28762138, 2.49558695, 2.70355253, 2.91151811,\n        3.11948369, 3.32744927, 3.53541485, 3.74338043, 3.95134601,\n        4.15931159, 4.36727717, 4.57524275, 4.78320833, 4.99117391,\n        5.19913949, 5.40710507, 5.61507065, 5.82303623, 6.03100181,\n        6.23896739]),\n <a list of 30 Patch objects>)"
     },
     "metadata": {},
     "output_type": "execute_result",
     "execution_count": 15
    },
    {
     "data": {
      "text/plain": "<Figure size 432x288 with 1 Axes>",
      "image/png": "[encoded data removed]"
     },
     "metadata": {
      "needs_background": "light"
     },
     "output_type": "display_data"
    }
   ],
   "source": [
    "train['FareNorm'] = train.Fare.apply(lambda _: 0 if _ <= 0 else np.log(_))\n",
    "test['FareNorm'] = test.Fare.apply(lambda _: 0 if _ <= 0 else np.log(_))\n",
    "plt.hist(train.FareNorm, bins=30)"
   ],
   "metadata": {
    "collapsed": false,
    "pycharm": {
     "name": "#%%\n",
     "is_executing": false
    }
   }
  },
  {
   "cell_type": "markdown",
   "source": [
    "### Scale Numerical Data"
   ],
   "metadata": {
    "collapsed": false
   }
  },
  {
   "cell_type": "code",
   "execution_count": 16,
   "outputs": [],
   "source": [
    "from sklearn.preprocessing import StandardScaler\n",
    "\n",
    "NUMERICAL = ['Age', 'FareNorm']\n",
    "scalar = StandardScaler()\n",
    "train[NUMERICAL] = scalar.fit_transform(train[NUMERICAL])\n",
    "test[NUMERICAL] = scalar.fit_transform(test[NUMERICAL])"
   ],
   "metadata": {
    "collapsed": false,
    "pycharm": {
     "name": "#%%\n",
     "is_executing": false
    }
   }
  },
  {
   "cell_type": "markdown",
   "source": [
    "### Get Dummies for Categorical Data"
   ],
   "metadata": {
    "collapsed": false,
    "pycharm": {
     "name": "#%% md\n",
     "is_executing": false
    }
   }
  },
  {
   "cell_type": "code",
   "execution_count": 17,
   "outputs": [],
   "source": [
    "CATEGORY = ['Pclass', 'Sex', 'Embarked', 'CabinCat', 'SibSp', 'Parch', 'Initial']\n",
    "\n",
    "OTHER_LABELS = [_ for _ in train.columns if _ not in CATEGORY if _ not in NUMERICAL]\n",
    "\n",
    "X_dummies = pd.get_dummies(train[CATEGORY])\n",
    "X_dummies_final = pd.get_dummies(test[CATEGORY])\n",
    "\n",
    "X = X_dummies.join(train[NUMERICAL])\n",
    "\n",
    "X_final =  X_dummies_final.join(test[NUMERICAL])\n",
    "X_final.fillna(0, inplace=True)    #fill in Na Values if any exist\n",
    "# Get missing columns in the training test\n",
    "missing_cols = set( X.columns ) - set( X_final.columns )\n",
    "# Add a missing column in test set with default value equal to 0\n",
    "for _ in missing_cols:\n",
    "    X_final[_] = 0\n",
    "# Ensure the order of column in the test set is in the same order than in train set\n",
    "X_final = X_final[X.columns]"
   ],
   "metadata": {
    "collapsed": false,
    "pycharm": {
     "name": "#%%\n",
     "is_executing": false
    }
   }
  },
  {
   "cell_type": "markdown",
   "metadata": {},
   "source": [
    "## Split the Data"
   ]
  },
  {
   "cell_type": "code",
   "execution_count": 18,
   "metadata": {
    "pycharm": {
     "is_executing": false
    }
   },
   "outputs": [],
   "source": [
    "from sklearn.model_selection import train_test_split\n",
    "\n",
    "y = train['Survived']\n",
    "\n",
    "X_train, X_test, y_train, y_test = train_test_split(X, y, test_size=0.2, random_state=RANDOM_STATE)"
   ]
  },
  {
   "cell_type": "markdown",
   "source": [
    "## Train the Data\n",
    "\n",
    "### Testing Models"
   ],
   "metadata": {
    "collapsed": false
   }
  },
  {
   "cell_type": "code",
   "execution_count": 19,
   "metadata": {
    "pycharm": {
     "is_executing": false,
     "name": "#%%\n"
    }
   },
   "outputs": [
    {
     "name": "stdout",
     "text": [
      "                          Scores\n",
      "Models                          \n",
      "KNeighborsClassifier    0.821229\n",
      "LogisticRegression      0.821229\n",
      "RandomForestClassifier  0.810056\n",
      "LinearSVC               0.810056\n",
      "SGDClassifier           0.793296\n",
      "DecisionTreeClassifier  0.782123\n",
      "GaussianNB              0.715084\n"
     ],
     "output_type": "stream"
    },
    {
     "name": "stderr",
     "text": [
      "/Users/LukeBarousse/opt/anaconda3/lib/python3.7/site-packages/sklearn/ensemble/forest.py:245: FutureWarning: The default value of n_estimators will change from 10 in version 0.20 to 100 in 0.22.\n",
      "  \"10 in version 0.20 to 100 in 0.22.\", FutureWarning)\n",
      "/Users/LukeBarousse/opt/anaconda3/lib/python3.7/site-packages/sklearn/linear_model/logistic.py:432: FutureWarning: Default solver will be changed to 'lbfgs' in 0.22. Specify a solver to silence this warning.\n",
      "  FutureWarning)\n"
     ],
     "output_type": "stream"
    }
   ],
   "source": [
    "from sklearn.ensemble import RandomForestClassifier\n",
    "from sklearn.tree import DecisionTreeClassifier\n",
    "from sklearn.neighbors import KNeighborsClassifier\n",
    "from sklearn.svm import LinearSVC\n",
    "from sklearn.naive_bayes import GaussianNB\n",
    "from sklearn.linear_model import LogisticRegression\n",
    "from sklearn.linear_model import SGDClassifier\n",
    "from sklearn.metrics import accuracy_score\n",
    "\n",
    "models = [RandomForestClassifier, DecisionTreeClassifier, KNeighborsClassifier, \n",
    "          LinearSVC, GaussianNB, LogisticRegression, SGDClassifier]\n",
    "names = ['RandomForestClassifier', 'DecisionTreeClassifier', 'KNeighborsClassifier', \n",
    "          'LinearSVC', 'GaussianNB', 'LogisticRegression', 'SGDClassifier']\n",
    "scores = []\n",
    "\n",
    "for mod in models:\n",
    "    model = mod()\n",
    "    model.fit(X_train, y_train)\n",
    "    y_pred = model.predict(X_test)\n",
    "    score = accuracy_score(y_test, y_pred)\n",
    "    scores.append(score)\n",
    "\n",
    "results = pd.DataFrame({'Models' : names, 'Scores' : scores}).sort_values(by='Scores', ascending=False).set_index('Models')\n",
    "print(results)\n"
   ]
  },
  {
   "cell_type": "markdown",
   "source": [
    "## Random Forrest Model\n",
    "### K-Fold Cross Validation"
   ],
   "metadata": {
    "collapsed": false,
    "pycharm": {
     "name": "#%% md\n",
     "is_executing": false
    }
   }
  },
  {
   "cell_type": "code",
   "execution_count": 20,
   "outputs": [
    {
     "name": "stdout",
     "text": [
      "Scores: [0.81944444 0.70833333 0.76388889 0.86111111 0.84507042 0.77464789\n",
      " 0.76056338 0.83098592 0.82857143 0.85714286]\n",
      "Mean: 0.8049759669125865\n",
      "Standard Deviation: 0.0477942686613566\n"
     ],
     "output_type": "stream"
    }
   ],
   "source": [
    "from sklearn.model_selection import cross_val_score\n",
    "rf = RandomForestClassifier(n_estimators=100)\n",
    "rf.fit(X_train, y_train)\n",
    "rf_scores = cross_val_score(rf, X_train, y_train, cv=10, scoring = \"accuracy\")\n",
    "print(\"Scores:\", rf_scores)\n",
    "print(\"Mean:\", rf_scores.mean())\n",
    "print(\"Standard Deviation:\", rf_scores.std())"
   ],
   "metadata": {
    "collapsed": false,
    "pycharm": {
     "name": "#%%\n",
     "is_executing": false
    }
   }
  },
  {
   "cell_type": "markdown",
   "source": [
    "### Feature Importance"
   ],
   "metadata": {
    "collapsed": false
   }
  },
  {
   "cell_type": "code",
   "execution_count": 21,
   "outputs": [
    {
     "data": {
      "text/plain": "<matplotlib.axes._subplots.AxesSubplot at 0x1a1fd83950>"
     },
     "metadata": {},
     "output_type": "execute_result",
     "execution_count": 21
    },
    {
     "data": {
      "text/plain": "<Figure size 432x288 with 1 Axes>",
      "image/png": "[encoded data removed]"
     },
     "metadata": {
      "needs_background": "light"
     },
     "output_type": "display_data"
    }
   ],
   "source": [
    "importances = pd.DataFrame({'Feature':X_train.columns,'Importance':np.round(rf.feature_importances_,3)})\n",
    "importances = importances.sort_values('Importance',ascending=False).set_index('Feature')\n",
    "importances.plot.bar()"
   ],
   "metadata": {
    "collapsed": false,
    "pycharm": {
     "name": "#%%\n",
     "is_executing": false
    }
   }
  },
  {
   "cell_type": "markdown",
   "source": [
    "### Tuning Hyperparameters"
   ],
   "metadata": {
    "collapsed": false
   }
  },
  {
   "cell_type": "code",
   "execution_count": 22,
   "outputs": [
    {
     "name": "stderr",
     "text": [
      "/Users/LukeBarousse/opt/anaconda3/lib/python3.7/site-packages/sklearn/model_selection/_split.py:1978: FutureWarning: The default value of cv will change from 3 to 5 in version 0.22. Specify it explicitly to silence this warning.\n",
      "  warnings.warn(CV_WARNING, FutureWarning)\n"
     ],
     "output_type": "stream"
    },
    {
     "name": "stdout",
     "text": [
      "Score of tuned hyperparameter model: 0.8324022346368715\n"
     ],
     "output_type": "stream"
    }
   ],
   "source": [
    "from sklearn.model_selection import GridSearchCV\n",
    "\n",
    "param_grid = { \"criterion\" : [\"gini\", \"entropy\"], \n",
    "               \"min_samples_leaf\" : [1, 5, 10, 25, 50, 70], \n",
    "               \"min_samples_split\" : [2, 4, 10, 12, 16, 18, 25, 35], \n",
    "               \"n_estimators\": [100, 400, 700, 1000, 1500]}\n",
    "\n",
    "rf = RandomForestClassifier() #n_estimators=100, max_features='auto', oob_score=True, random_state=RANDOM_STATE, n_jobs=-1)\n",
    "\n",
    "clf = GridSearchCV(estimator=rf, param_grid=param_grid, n_jobs=-1)\n",
    "clf.fit(X_train, y_train)\n",
    "y_pred = clf.predict(X_test)\n",
    "clf_score = accuracy_score(y_test, y_pred)\n",
    "print(f'Score of tuned hyperparameter model: {clf_score}')"
   ],
   "metadata": {
    "collapsed": false,
    "pycharm": {
     "name": "#%%\n",
     "is_executing": false
    }
   }
  },
  {
   "cell_type": "markdown",
   "source": [
    "### Fitting Final Model and Printing Results"
   ],
   "metadata": {
    "collapsed": false
   }
  },
  {
   "cell_type": "code",
   "execution_count": 23,
   "outputs": [
    {
     "name": "stderr",
     "text": [
      "/Users/LukeBarousse/opt/anaconda3/lib/python3.7/site-packages/sklearn/model_selection/_split.py:1978: FutureWarning: The default value of cv will change from 3 to 5 in version 0.22. Specify it explicitly to silence this warning.\n",
      "  warnings.warn(CV_WARNING, FutureWarning)\n"
     ],
     "output_type": "stream"
    },
    {
     "name": "stdout",
     "text": [
      "Saved file: Titanic Predictions 1.csv\n"
     ],
     "output_type": "stream"
    }
   ],
   "source": [
    "clf.fit(X, y)\n",
    "predictions = clf.predict(X_final)\n",
    "submission = pd.DataFrame({'PassengerId':test['PassengerId'],'Survived':predictions})\n",
    "filename = 'Titanic Predictions 1.csv'\n",
    "\n",
    "submission.to_csv(filename,index=False)\n",
    "print('Saved file: ' + filename)\n",
    "\n"
   ],
   "metadata": {
    "collapsed": false,
    "pycharm": {
     "name": "#%%\n",
     "is_executing": false
    }
   }
  }
 ],
 "metadata": {
  "kernelspec": {
   "name": "pycharm-302eea65",
   "language": "python",
   "display_name": "PyCharm (Titanic)"
  },
  "language_info": {
   "codemirror_mode": {
    "name": "ipython",
    "version": 3
   },
   "file_extension": ".py",
   "mimetype": "text/x-python",
   "name": "python",
   "nbconvert_exporter": "python",
   "pygments_lexer": "ipython3",
   "version": "3.7.4"
  },
  "pycharm": {
   "stem_cell": {
    "cell_type": "raw",
    "source": [],
    "metadata": {
     "collapsed": false
    }
   }
  }
 },
 "nbformat": 4,
 "nbformat_minor": 1
}